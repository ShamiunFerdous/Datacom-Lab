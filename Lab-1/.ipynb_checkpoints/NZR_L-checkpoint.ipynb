{
 "cells": [
  {
   "cell_type": "code",
   "execution_count": 11,
   "id": "e3243c88-fa98-4737-b0e6-65d9579266ed",
   "metadata": {},
   "outputs": [],
   "source": [
    "import matplotlib as plt\n",
    "import numpy as np"
   ]
  },
  {
   "cell_type": "code",
   "execution_count": 12,
   "id": "35a82ae7-0596-48fe-bb31-7562cd34a512",
   "metadata": {
    "scrolled": true
   },
   "outputs": [
    {
     "name": "stdout",
     "output_type": "stream",
     "text": [
      "Original bits :  [1 0 1 0 1 0 1 1 1 0 0 1]\n"
     ]
    }
   ],
   "source": [
    "strn = '101010111001'\n",
    "arr = np.array([int(i) for i in strn])\n",
    "print(\"Original bits : \", arr) "
   ]
  },
  {
   "cell_type": "markdown",
   "id": "f7a300c3-49e0-41cd-b057-bc2639303696",
   "metadata": {},
   "source": [
    "## Logic for encoding"
   ]
  },
  {
   "cell_type": "code",
   "execution_count": 13,
   "id": "46f39cb5-c96c-4434-aae8-1916ef590945",
   "metadata": {},
   "outputs": [
    {
     "name": "stdout",
     "output_type": "stream",
     "text": [
      "[1, 0, 1, 0, 1, 0, 1, 1, 1, 0, 0, 1]\n"
     ]
    }
   ],
   "source": [
    "encoded = []\n",
    "for i in arr:\n",
    "    if i == 1:\n",
    "        encoded.append(1)\n",
    "    else:\n",
    "        encoded.append(0)\n",
    "print(encoded)"
   ]
  },
  {
   "cell_type": "markdown",
   "id": "507a89b9-953d-421c-937e-c2e8d6450e60",
   "metadata": {},
   "source": [
    "## Graphical representation of encoded signal"
   ]
  },
  {
   "cell_type": "code",
   "execution_count": 14,
   "id": "9dd867c4-9818-4bfb-b61f-e31df63ebb58",
   "metadata": {},
   "outputs": [
    {
     "ename": "AttributeError",
     "evalue": "module 'matplotlib' has no attribute 'figure'",
     "output_type": "error",
     "traceback": [
      "\u001b[31m---------------------------------------------------------------------------\u001b[39m",
      "\u001b[31mAttributeError\u001b[39m                            Traceback (most recent call last)",
      "\u001b[36mCell\u001b[39m\u001b[36m \u001b[39m\u001b[32mIn[14]\u001b[39m\u001b[32m, line 2\u001b[39m\n\u001b[32m      1\u001b[39m \u001b[38;5;66;03m# 🟢 Step 3: Plot NRZ-L Encoded Signal\u001b[39;00m\n\u001b[32m----> \u001b[39m\u001b[32m2\u001b[39m \u001b[43mplt\u001b[49m\u001b[43m.\u001b[49m\u001b[43mfigure\u001b[49m(figsize=(\u001b[32m10\u001b[39m, \u001b[32m5\u001b[39m), dpi=\u001b[32m200\u001b[39m, facecolor=\u001b[33m'\u001b[39m\u001b[33mlightgray\u001b[39m\u001b[33m'\u001b[39m)\n\u001b[32m      3\u001b[39m plt.title(\u001b[33m\"\u001b[39m\u001b[33mNRZ-L Encoded Signal for bits \u001b[39m\u001b[33m\"\u001b[39m + bits, fontdict={\u001b[33m'\u001b[39m\u001b[33mfontname\u001b[39m\u001b[33m'\u001b[39m: \u001b[33m'\u001b[39m\u001b[33mComic Sans MS\u001b[39m\u001b[33m'\u001b[39m, \u001b[33m'\u001b[39m\u001b[33mfontsize\u001b[39m\u001b[33m'\u001b[39m: \u001b[32m20\u001b[39m})\n\u001b[32m      4\u001b[39m plt.step(\u001b[38;5;28mrange\u001b[39m(\u001b[38;5;28mlen\u001b[39m(encoded)+\u001b[32m1\u001b[39m), np.append(encoded, encoded[-\u001b[32m1\u001b[39m]), where=\u001b[33m'\u001b[39m\u001b[33mpost\u001b[39m\u001b[33m'\u001b[39m, color=\u001b[33m'\u001b[39m\u001b[33mblue\u001b[39m\u001b[33m'\u001b[39m, linewidth=\u001b[32m2\u001b[39m)\n",
      "\u001b[36mFile \u001b[39m\u001b[32m~\\AppData\\Local\\Programs\\Python\\Python313\\Lib\\site-packages\\matplotlib\\_api\\__init__.py:218\u001b[39m, in \u001b[36mcaching_module_getattr.<locals>.__getattr__\u001b[39m\u001b[34m(name)\u001b[39m\n\u001b[32m    216\u001b[39m \u001b[38;5;28;01mif\u001b[39;00m name \u001b[38;5;129;01min\u001b[39;00m props:\n\u001b[32m    217\u001b[39m     \u001b[38;5;28;01mreturn\u001b[39;00m props[name].\u001b[34m__get__\u001b[39m(instance)\n\u001b[32m--> \u001b[39m\u001b[32m218\u001b[39m \u001b[38;5;28;01mraise\u001b[39;00m \u001b[38;5;167;01mAttributeError\u001b[39;00m(\n\u001b[32m    219\u001b[39m     \u001b[33mf\u001b[39m\u001b[33m\"\u001b[39m\u001b[33mmodule \u001b[39m\u001b[38;5;132;01m{\u001b[39;00m\u001b[38;5;28mcls\u001b[39m.\u001b[34m__module__\u001b[39m\u001b[38;5;132;01m!r}\u001b[39;00m\u001b[33m has no attribute \u001b[39m\u001b[38;5;132;01m{\u001b[39;00mname\u001b[38;5;132;01m!r}\u001b[39;00m\u001b[33m\"\u001b[39m)\n",
      "\u001b[31mAttributeError\u001b[39m: module 'matplotlib' has no attribute 'figure'"
     ]
    }
   ],
   "source": [
    "# 🟢 Step 3: Plot NRZ-L Encoded Signal\n",
    "plt.figure(figsize=(10, 5), dpi=200, facecolor='lightgray')\n",
    "plt.title(\"NRZ-L Encoded Signal for bits \" + bits, fontdict={'fontname': 'Comic Sans MS', 'fontsize': 20})\n",
    "plt.step(range(len(encoded)+1), np.append(encoded, encoded[-1]), where='post', color='blue', linewidth=2)\n",
    "plt.yticks([0, 1], ['Low', 'High'])\n",
    "plt.xlabel('Time', fontdict={'fontname': 'Comic Sans MS', 'fontsize': 15})\n",
    "plt.ylabel('Voltage', fontdict={'fontname': 'Comic Sans MS', 'fontsize': 15})\n",
    "plt.grid(True)\n",
    "plt.show()\n"
   ]
  }
 ],
 "metadata": {
  "kernelspec": {
   "display_name": "Python 3 (ipykernel)",
   "language": "python",
   "name": "python3"
  },
  "language_info": {
   "codemirror_mode": {
    "name": "ipython",
    "version": 3
   },
   "file_extension": ".py",
   "mimetype": "text/x-python",
   "name": "python",
   "nbconvert_exporter": "python",
   "pygments_lexer": "ipython3",
   "version": "3.13.0"
  }
 },
 "nbformat": 4,
 "nbformat_minor": 5
}
